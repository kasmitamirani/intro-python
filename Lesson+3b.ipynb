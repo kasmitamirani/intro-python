{
 "cells": [
  {
   "cell_type": "code",
   "execution_count": 1,
   "metadata": {
    "collapsed": true
   },
   "outputs": [],
   "source": [
    "import pandas as pd\n",
    "import numpy as np\n",
    "from numpy import sum\n",
    "import matplotlib.pyplot as plt\n",
    "import sys\n",
    "%matplotlib inline"
   ]
  },
  {
   "cell_type": "code",
   "execution_count": 9,
   "metadata": {},
   "outputs": [
    {
     "name": "stdout",
     "output_type": "stream",
     "text": [
      "<class 'pandas.core.frame.DataFrame'>\n",
      "RangeIndex: 492895 entries, 0 to 492894\n",
      "Data columns (total 4 columns):\n",
      "name      492895 non-null object\n",
      "sex       492895 non-null object\n",
      "births    492895 non-null int64\n",
      "year      492895 non-null int64\n",
      "dtypes: int64(2), object(2)\n",
      "memory usage: 15.0+ MB\n"
     ]
    }
   ],
   "source": [
    "years = range(2000,2015)\n",
    "Location = r'C:\\Users\\GBTC441003ur\\names\\\\'\n",
    "\n",
    "pieces = []\n",
    "columns=['name','sex','births']\n",
    "\n",
    "for year in years:\n",
    "    path = Location + 'yob%d.txt' % year\n",
    "         \n",
    "    frame = pd.read_csv(path, names=columns)\n",
    "         \n",
    "    frame['year'] = year\n",
    "    pieces.append(frame)\n",
    "         \n",
    "names = pd.concat(pieces, ignore_index=True)\n",
    "names.info()"
   ]
  },
  {
   "cell_type": "code",
   "execution_count": 2,
   "metadata": {
    "collapsed": true
   },
   "outputs": [],
   "source": [
    "path_to_zip_file = \"names.zip\"\n",
    "directory_to_extract_to = \"\"\n",
    "\n",
    "import zipfile\n",
    "zip_ref = zipfile.ZipFile(path_to_zip_file, 'r')\n",
    "zip_ref.extractall(directory_to_extract_to)\n",
    "zip_ref.close()"
   ]
  },
  {
   "cell_type": "code",
   "execution_count": null,
   "metadata": {
    "collapsed": true
   },
   "outputs": [],
   "source": []
  }
 ],
 "metadata": {
  "kernelspec": {
   "display_name": "Python 2",
   "language": "python",
   "name": "python2"
  },
  "language_info": {
   "codemirror_mode": {
    "name": "ipython",
    "version": 2
   },
   "file_extension": ".py",
   "mimetype": "text/x-python",
   "name": "python",
   "nbconvert_exporter": "python",
   "pygments_lexer": "ipython2",
   "version": "2.7.13"
  }
 },
 "nbformat": 4,
 "nbformat_minor": 2
}
